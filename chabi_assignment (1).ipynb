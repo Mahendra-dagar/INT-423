{
  "cells": [
    {
      "cell_type": "markdown",
      "metadata": {
        "id": "view-in-github",
        "colab_type": "text"
      },
      "source": [
        "<a href=\"https://colab.research.google.com/github/Akash9935/Akash9935/blob/main/chabi_assignment.ipynb\" target=\"_parent\"><img src=\"https://colab.research.google.com/assets/colab-badge.svg\" alt=\"Open In Colab\"/></a>"
      ]
    },
    {
      "cell_type": "code",
      "execution_count": null,
      "id": "2c4b3262",
      "metadata": {
        "id": "2c4b3262"
      },
      "outputs": [],
      "source": [
        "'''\n",
        "Q1. Get your basics right - Implement selection sort algorithm in python. The function accepts a\n",
        "list in the input and returns a sorted list.\n",
        "E.g.\n",
        "Input f1([5,416,54,21,6135,15,741]) should\n",
        "Return [5, 15, 21, 54, 416, 741, 6135]\n",
        "'''\n",
        "pass"
      ]
    },
    {
      "cell_type": "code",
      "execution_count": 1,
      "id": "92945eaa",
      "metadata": {
        "id": "92945eaa"
      },
      "outputs": [],
      "source": [
        "def selection_sort(lst):\n",
        "    for i in range(len(lst)):\n",
        "        index = i\n",
        "        \n",
        "        for j in range(i,len(lst)):\n",
        "            if lst[j]<lst[i]:\n",
        "                index = j\n",
        "        lst[i],lst[index]=lst[index],lst[i]"
      ]
    },
    {
      "cell_type": "code",
      "execution_count": 2,
      "id": "a544ab3e",
      "metadata": {
        "colab": {
          "base_uri": "https://localhost:8080/"
        },
        "id": "a544ab3e",
        "outputId": "d56ed2b5-17d0-489f-f275-b81e3ba86534"
      },
      "outputs": [
        {
          "output_type": "stream",
          "name": "stdout",
          "text": [
            "Old List: [5, 416, 54, 21, 6135, 15, 15, 741]\n",
            "Sorted List  [5, 15, 15, 21, 741, 54, 416, 6135]\n"
          ]
        }
      ],
      "source": [
        "lst = [5,416,54,21,6135,15,15,741]\n",
        "print(\"Old List:\", lst)\n",
        "selection_sort(lst)\n",
        "print(\"Sorted List \", lst)"
      ]
    },
    {
      "cell_type": "code",
      "execution_count": null,
      "id": "d6014f1d",
      "metadata": {
        "id": "d6014f1d"
      },
      "outputs": [],
      "source": [
        "'''\n",
        "Q2. Dictionary, what?\n",
        "Write a program that returns the file type from a file name. The type of the file is determined\n",
        "from the extension. Initially, a list of values of the form \"extension,type\"(e.g. xls,spreadsheet;\n",
        "png,image) will be input.\n",
        "The program takes input in the following form:\n",
        "1. Input extension and type values in the form of a string having the following format:\n",
        "a. \"extension1,type1;extension2,type2;extension3,type3\"\n",
        "b. E.g. If we needed to input xls → spreadsheet, xlsx → spreadsheet, jpg → image\n",
        "our string would be something like: \"xls,spreadsheet;xlsx,spreadsheet;jpg,image\"\n",
        "2. Input a list of filename.extension. E.g. an input list could be something like [\"abc.html\",\n",
        "\"xyz.xls\", \"text.csv\", \"123\"]\n",
        "The program should return a dict of filename: type pairs\n",
        "E.g.\n",
        "f(\"xls,spreadsheet;xlsx,spreadsheet;jpg,image\", [\"abc.jpg\",\n",
        "\"xyz.xls\", \"text.csv\", \"123\"]) should return\n",
        "{\n",
        "\"abc.jpg\": \"image\",\n",
        "\"xyz.xls\": \"spreadsheet\",\n",
        "\"Text.csv\": \"unknown\",\n",
        "\"123\": \"unknown\"\n",
        "}\n",
        "'''\n",
        "pass"
      ]
    },
    {
      "cell_type": "code",
      "execution_count": 9,
      "id": "ca656248",
      "metadata": {
        "colab": {
          "base_uri": "https://localhost:8080/"
        },
        "id": "ca656248",
        "outputId": "6e6093e6-66c0-4bad-ba1b-c20e468d88cd"
      },
      "outputs": [
        {
          "output_type": "stream",
          "name": "stdout",
          "text": [
            "{'abc.jpg': 'image', 'xyz.xls': 'spreadsheet', 'text.csv': 'unknown', '123': 'unknown'}\n"
          ]
        }
      ],
      "source": [
        "def get_file_type(extension_type, filenames):\n",
        "    \n",
        "    extension_type_list = extension_type.split(';')\n",
        "    extension_type_dict = {}\n",
        "    for extension_type in extension_type_list:\n",
        "        extension, file_type = extension_type.split(',')\n",
        "        extension_type_dict[extension] = file_type\n",
        "    filename_type_dict = {}\n",
        "    \n",
        "    for filename in filenames:\n",
        "        extension = filename.split('.')[-1]\n",
        "        file_type = extension_type_dict.get(extension, 'unknown')\n",
        "        filename_type_dict[filename] = file_type\n",
        "    \n",
        "    return filename_type_dict\n",
        "\n",
        "extension_type = \"xls,spreadsheet;xlsx,spreadsheet;jpg,image\"\n",
        "filenames = [\"abc.jpg\", \"xyz.xls\", \"text.csv\", \"123\"]\n",
        "result = get_file_type(extension_type, filenames)\n",
        "print(result)"
      ]
    },
    {
      "cell_type": "code",
      "execution_count": null,
      "id": "73501d9c",
      "metadata": {
        "id": "73501d9c"
      },
      "outputs": [],
      "source": [
        "'''\n",
        "Q3. Column Sorting, yay!\n",
        "Given a list of dicts, write a program to sort the list according to a key given in input.\n",
        "E.g.\n",
        "Input f([\n",
        "{\"fruit\": \"orange\", \"color\": \"orange\"},\n",
        "{\"fruit\": \"apple\", \"color\": \"red\"},\n",
        "{\"fruit\": \"banana\", \"color\": \"yellow\"},\n",
        "{\"fruit\": \"blueberry\", \"color\": \"blue\"}\n",
        "], \"fruit\")\n",
        "Should Output\n",
        "[\n",
        "{\"fruit\": \"apple\", \"color\": \"red\"},\n",
        "{\"fruit\": \"banana\", \"color\": \"yellow\"},\n",
        "{\"fruit\": \"blueberry\", \"color\": \"blue\"},\n",
        "{\"fruit\": \"orange\", \"color\": \"orange\"}\n",
        "]\n",
        "AND\n",
        "Input f([\n",
        "{\"fruit\": \"orange\", \"color\": \"orange\"},\n",
        "{\"fruit\": \"apple\", \"color\": \"red\"},\n",
        "{\"fruit\": \"banana\", \"color\": \"yellow\"},\n",
        "{\"fruit\": \"blueberry\", \"color\": \"blue\"}\n",
        "], \"color\")\n",
        "Should Output\n",
        "[\n",
        "{\"fruit\": \"blueberry\", \"color\": \"blue\"},\n",
        "{\"fruit\": \"orange\", \"color\": \"orange\"},\n",
        "{\"fruit\": \"apple\", \"color\": \"red\"},\n",
        "{\"fruit\": \"banana\", \"color\": \"yellow\"}\n",
        "]\n",
        "'''\n",
        "pass"
      ]
    },
    {
      "cell_type": "code",
      "execution_count": 3,
      "id": "b4cdb830",
      "metadata": {
        "colab": {
          "base_uri": "https://localhost:8080/"
        },
        "id": "b4cdb830",
        "outputId": "616fed85-3ae6-4235-f643-d13712400541"
      },
      "outputs": [
        {
          "output_type": "stream",
          "name": "stdout",
          "text": [
            "['ashu', 'kajal', 'govind', 'yash', 'akash']\n",
            "{'akash': 32, 'ashu': 10, 'govind': 15, 'kajal': 9, 'yash': 2}\n"
          ]
        }
      ],
      "source": [
        "myDict = {'ashu': 10, 'kajal': 9,\n",
        "        'govind': 15, 'yash': 2, 'akash': 32}\n",
        "\n",
        "myKeys = list(myDict.keys())\n",
        "print(myKeys)\n",
        "myKeys.sort()\n",
        "sorted_dict = {i: myDict[i] for i in myKeys}\n",
        "\n",
        "print(sorted_dict)"
      ]
    },
    {
      "cell_type": "code",
      "execution_count": null,
      "id": "45475c6a",
      "metadata": {
        "id": "45475c6a"
      },
      "outputs": [],
      "source": [
        "'''Q4. The power of one line -\n",
        "Given a dictionary, switch position of key and values in the dict, i.e., value becomes the key and\n",
        "key becomes value. The function's body shouldn't have more than one statement.\n",
        "f({\n",
        "\"key1\": \"value1\",\n",
        "\"key2\": \"value2\",              \n",
        "\"key3\": \"value3\",\n",
        "\"key4\": \"value4\",\n",
        "\"key5\": \"value5\"\n",
        "}) should return\n",
        "{\n",
        "\"value1\": \"key1\",\n",
        "\"value2\": \"key2\",\n",
        "\"value3\": \"key3\",\n",
        "\"value4\": \"key4\",\n",
        "\"value5\": \"key5\"\n",
        "}\n",
        "'''\n",
        "pass"
      ]
    },
    {
      "cell_type": "code",
      "execution_count": null,
      "id": "875e3b02",
      "metadata": {
        "id": "875e3b02",
        "outputId": "6232bcea-2f22-4c14-e676-ddcf114d77df"
      },
      "outputs": [
        {
          "name": "stdout",
          "output_type": "stream",
          "text": [
            "New Modified Dictonary\n",
            "('value1', 'key1')\n",
            "('value2', 'key2')\n",
            "('value3', 'key3')\n",
            "('value4', 'key4')\n",
            "('value5', 'key5')\n"
          ]
        }
      ],
      "source": [
        "dic = {\n",
        "\"key1\": \"value1\",\n",
        "\"key2\": \"value2\",\n",
        "\"key3\": \"value3\",\n",
        "\"key4\": \"value4\",\n",
        "\"key5\": \"value5\"\n",
        "}\n",
        "\n",
        "ans = {value:key for key,value in dic.items()}\n",
        "\n",
        "print(\"New Modified Dictonary\")\n",
        "\n",
        "for i in ans.items():\n",
        "    print(i)"
      ]
    },
    {
      "cell_type": "code",
      "execution_count": null,
      "id": "c96546dd",
      "metadata": {
        "id": "c96546dd",
        "outputId": "6ddf0cf2-fa14-40d4-ba22-7ba7c95ea368"
      },
      "outputs": [
        {
          "name": "stdout",
          "output_type": "stream",
          "text": [
            "New Modified Dictonary\n",
            "('value1', 'key1')\n",
            "('value2', 'key2')\n",
            "('value3', 'key3')\n",
            "('value4', 'key4')\n",
            "('value5', 'key5')\n"
          ]
        }
      ],
      "source": []
    },
    {
      "cell_type": "code",
      "source": [
        "'''Q5. Common, Not Common\n",
        "Given 2 lists in input. Write a program to return the elements, which are common to both\n",
        "lists(set intersection) and those which are not common(set symmetric difference) between the\n",
        "lists.\n",
        "\n",
        "Input:\n",
        "Mainstream = [\"One Punch Man\",\"Attack On Titan\",\"OnePiece\",\"Sword\n",
        "Art Online\",\"Bleach\",\"Dragon Ball Z\",\"One Piece\"]\n",
        "must_watch = [\"Full Metal Alchemist\",\"Code Geass\",\"Death\n",
        "Note\",\"Stein's Gate\",\"The Devil is a Part Timer!\",\"One Piece\",\"Attack\n",
        "On Titan\"]\n",
        "\n",
        "f(mainstream, must_watch) should return:\n",
        "\n",
        "[\"One Piece\", \"Attack On Titan\"], [\"Dragon Ball Z\", \"Death Note\",\n",
        "\"One Punch Man\", \"Stein's Gate\", \"The Devil is a Part Timer!\", \"Sword\n",
        "Art Online\",\"Full Metal Alchemist\",\"'Bleach\", \"Code Geass\"]\n",
        "'''\n"
      ],
      "metadata": {
        "id": "cDJIny7XGbwK"
      },
      "id": "cDJIny7XGbwK",
      "execution_count": null,
      "outputs": []
    },
    {
      "cell_type": "code",
      "source": [
        "mainstream = [\"One Punch Man\",\"Attack On Titan\",\"OnePiece\",\"SwordArt Online\",\n",
        "              \"Bleach\",\"Dragon Ball Z\",\"One Piece\"]\n",
        "must_watch = [\"Full Metal Alchemist\",\"Code Geass\",\"DeathNote\",\n",
        "              \"Stein's Gate\",\"The Devil is a Part Timer!\",\"One Piece\",\"Attack On Titan\"]"
      ],
      "metadata": {
        "id": "pFMCbcMcGL63"
      },
      "id": "pFMCbcMcGL63",
      "execution_count": null,
      "outputs": []
    },
    {
      "cell_type": "code",
      "source": [
        "common_list = list(set(mainstream) & set(must_watch))\n",
        "uncommon_list = list(set(mainstream) ^ set(must_watch))\n",
        "print(f\"List of The Common Elements: {common_list}\")\n",
        "print()\n",
        "print(f\"List of The UnCommon Elements: {uncommon_list}\")"
      ],
      "metadata": {
        "id": "xf0fI3dzGOE5"
      },
      "id": "xf0fI3dzGOE5",
      "execution_count": null,
      "outputs": []
    },
    {
      "cell_type": "code",
      "execution_count": null,
      "id": "52555dfc",
      "metadata": {
        "id": "52555dfc"
      },
      "outputs": [],
      "source": [
        "'''Q6. Every other sub-list\n",
        "Given a list and 2 indices as input, return the sub-list enclosed within these 2 indices. It should\n",
        "contain every second element.\n",
        "E.g.\n",
        "Input f([2,3,5,7,11,13,17,19,23,29,31,37,41], 2, 9)\n",
        "Return [5, 11, 17, 23]\n",
        "'''\n",
        "pass"
      ]
    },
    {
      "cell_type": "code",
      "execution_count": null,
      "id": "344192dc",
      "metadata": {
        "id": "344192dc",
        "outputId": "eb9b930b-21b6-48c3-ac03-24cd8a36fa32"
      },
      "outputs": [
        {
          "name": "stdout",
          "output_type": "stream",
          "text": [
            "[5, 11, 17, 23]\n"
          ]
        }
      ],
      "source": [
        "lst = [2,3,5,7,11,13,17,19,23,29,31,37,41]\n",
        "lst2= lst[2:9]\n",
        "print(lst2[::2])"
      ]
    },
    {
      "cell_type": "code",
      "execution_count": null,
      "id": "639acaa0",
      "metadata": {
        "id": "639acaa0"
      },
      "outputs": [],
      "source": [
        "'''Q7. Calculate the factorial of a number using lambda function.\n",
        "'''\n",
        "pass"
      ]
    },
    {
      "cell_type": "code",
      "execution_count": 7,
      "id": "f96a142f",
      "metadata": {
        "colab": {
          "base_uri": "https://localhost:8080/"
        },
        "id": "f96a142f",
        "outputId": "2d015066-dbdf-4256-cf88-8e3977895699"
      },
      "outputs": [
        {
          "output_type": "stream",
          "name": "stdout",
          "text": [
            "Enter a number: 5\n",
            "The factorial of 5 is: 120\n"
          ]
        }
      ],
      "source": [
        "factorial = lambda n: 1 if n == 0 else n * factorial(n - 1)\n",
        "\n",
        "n = int(input(\"Enter a number: \"))\n",
        "result = factorial(n)\n",
        "\n",
        "print(f\"The factorial of {n} is: {result}\")\n"
      ]
    },
    {
      "cell_type": "code",
      "execution_count": null,
      "id": "782926cc",
      "metadata": {
        "id": "782926cc",
        "outputId": "08c13d4d-3d3f-4772-db8a-6cbf3f2e4bf6"
      },
      "outputs": [
        {
          "name": "stdout",
          "output_type": "stream",
          "text": [
            "{'abc.jpg': 'image', 'xyz.xls': 'spreadsheet', 'text.csv': 'unknown', '123': 'unknown'}\n"
          ]
        }
      ],
      "source": []
    },
    {
      "cell_type": "code",
      "execution_count": null,
      "id": "b5dcae25",
      "metadata": {
        "id": "b5dcae25",
        "outputId": "c7eb31de-f016-42a7-aaeb-b681f93f6a77"
      },
      "outputs": [
        {
          "name": "stdout",
          "output_type": "stream",
          "text": [
            "A1: [2, 4, 6, 8, 10]\n",
            "A2: [10, 8, 6, 4, 2]\n",
            "A3: [4, 6, 8]\n",
            "A4: [2, 4, 6, 8, 10]\n",
            "A5: {2: 4, 4: 16, 6: 36, 8: 64, 10: 100}\n",
            "A6: [[2, 4], [4, 16], [6, 36], [8, 64], [10, 100]]\n",
            "A7: 21\n",
            "2 4 6 8\n",
            "want learn python\n"
          ]
        }
      ],
      "source": [
        "from functools import reduce\n",
        "\n",
        "A1 = [2, 4, 6, 8, 10]\n",
        "A2 = A1[::-1] #reversed using the slicing\n",
        "A3 = A1[1:4]\n",
        "A4 = [i for i in A1 if i % 2 == 0]\n",
        "A5 = {i: i*i for i in A1}\n",
        "A6 = [[i, i*i] for i in A1]\n",
        "#  lambda funtion to make function quick \n",
        "A7 = reduce(lambda x, y: x + y, [10, 23, -45, 33])\n",
        "A8 = map(lambda x: x*2, [1, 2, 3, 4])\n",
        "A9 = filter(lambda x: len(x) > 3, [\"I\", \"want\", \"to\", \"learn\", \"python\"])\n",
        "\n",
        "print('A1:' , A1)\n",
        "print('A2:' , A2)\n",
        "print('A3:' , A3)\n",
        "print('A4:' , A4)\n",
        "print('A5:' , A5)\n",
        "print('A6:' , A6)\n",
        "print('A7:' , A7)\n",
        "print(*A8)\n",
        "print(*A9)"
      ]
    },
    {
      "cell_type": "code",
      "execution_count": null,
      "id": "32753e33",
      "metadata": {
        "id": "32753e33"
      },
      "outputs": [],
      "source": [
        "'''Q9.\n",
        "Write a func that takes 3 args:\n",
        "from_date - string representing a date in the form of 'yy-mm-dd'\n",
        "to_date - string representing a date in the form of 'yy-mm-dd'\n",
        "difference - int\n",
        "Returns True if from_date and to_date are less than difference days away from each other, else\n",
        "returns False'''"
      ]
    },
    {
      "cell_type": "code",
      "source": [
        "from datetime import datetime, timedelta\n",
        "\n",
        "def is_date_difference_less(f_date, t_date, difference):\n",
        "    # Convert the date strings to datetime objects\n",
        "    f_date = datetime.strptime(f_date, '%y-%m-%d')\n",
        "    t_date = datetime.strptime(t_date, '%y-%m-%d')\n",
        "    \n",
        "    date_difference = (t_date - f_date).days\n",
        "    \n",
        "    if date_difference < difference:\n",
        "        return True\n",
        "    else:\n",
        "        return False\n",
        "\n",
        "\n",
        "# Test the function\n",
        "f_date = '21-06-01'\n",
        "t_date = '21-06-05'\n",
        "difference = 7\n",
        "result = is_date_difference_less(f_date, t_date, difference)\n",
        "print(result)"
      ],
      "metadata": {
        "colab": {
          "base_uri": "https://localhost:8080/"
        },
        "id": "VVdiS5NZGvXk",
        "outputId": "b9e2447c-5511-4f08-f891-8f0b76d73e5d"
      },
      "id": "VVdiS5NZGvXk",
      "execution_count": 4,
      "outputs": [
        {
          "output_type": "stream",
          "name": "stdout",
          "text": [
            "True\n"
          ]
        }
      ]
    },
    {
      "cell_type": "code",
      "source": [
        "'''Q10. Of date and days\n",
        "Write a func that takes 2 args:\n",
        "date - string representing a date in the form of 'yy-mm-dd'\n",
        "n - integer\n",
        "Returns the string representation of date n days before 'date'\n",
        "E.g. f('16-12-10', 11) should return '16-11-29'\n",
        "'''"
      ],
      "metadata": {
        "id": "QlWB_isSHbxt"
      },
      "id": "QlWB_isSHbxt",
      "execution_count": null,
      "outputs": []
    },
    {
      "cell_type": "code",
      "source": [
        "from datetime import datetime, timedelta\n",
        "\n",
        "def get_date_n_days_before(date_str, n):\n",
        "    date = datetime.strptime(date_str, '%y-%m-%d')\n",
        "    new_date = date - timedelta(days=n)\n",
        "    return new_date.strftime('%y-%m-%d')\n",
        "\n",
        "date_str = '16-12-10'\n",
        "n = 11\n",
        "result = get_date_n_days_before(date_str, n)\n",
        "print(result)\n"
      ],
      "metadata": {
        "colab": {
          "base_uri": "https://localhost:8080/"
        },
        "id": "K9bCWh4yHkRa",
        "outputId": "2428c03c-dfff-47c6-c35e-13d55edc5dbc"
      },
      "id": "K9bCWh4yHkRa",
      "execution_count": 5,
      "outputs": [
        {
          "output_type": "stream",
          "name": "stdout",
          "text": [
            "16-11-29\n"
          ]
        }
      ]
    },
    {
      "cell_type": "code",
      "source": [
        "'''Q11. Something fishy there -\n",
        "Find output of following:\n",
        "def f(x,l=[]):\n",
        "for i in range(x):\n",
        "l.append(i*i)\n",
        "print(l)\n",
        "f(2)\n",
        "f(3,[3,2,1])\n",
        "f(3)'''"
      ],
      "metadata": {
        "id": "97EdkJCUIhXK"
      },
      "id": "97EdkJCUIhXK",
      "execution_count": null,
      "outputs": []
    },
    {
      "cell_type": "code",
      "source": [
        "def custom_function(x, custom_list=[]):\n",
        "    for i in range(x):\n",
        "        custom_list.append(i*i)\n",
        "    print(custom_list)\n",
        "\n",
        "custom_function(2)\n",
        "custom_function(3, [3, 2, 1])\n",
        "custom_function(3)\n"
      ],
      "metadata": {
        "colab": {
          "base_uri": "https://localhost:8080/"
        },
        "id": "vbby68EUIndP",
        "outputId": "7bddcecb-0538-4edc-a9fd-3c3e2605fbe1"
      },
      "id": "vbby68EUIndP",
      "execution_count": 7,
      "outputs": [
        {
          "output_type": "stream",
          "name": "stdout",
          "text": [
            "[0, 1]\n",
            "[3, 2, 1, 0, 1, 4]\n",
            "[0, 1, 0, 1, 4]\n"
          ]
        }
      ]
    }
  ],
  "metadata": {
    "kernelspec": {
      "display_name": "Python 3 (ipykernel)",
      "language": "python",
      "name": "python3"
    },
    "language_info": {
      "codemirror_mode": {
        "name": "ipython",
        "version": 3
      },
      "file_extension": ".py",
      "mimetype": "text/x-python",
      "name": "python",
      "nbconvert_exporter": "python",
      "pygments_lexer": "ipython3",
      "version": "3.11.1"
    },
    "colab": {
      "provenance": [],
      "include_colab_link": true
    }
  },
  "nbformat": 4,
  "nbformat_minor": 5
}